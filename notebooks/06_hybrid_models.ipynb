{
 "cells": [
  {
   "cell_type": "code",
   "execution_count": 1,
   "id": "2350b1a4",
   "metadata": {},
   "outputs": [],
   "source": [
    "import pandas as pd\n",
    "import numpy as np\n",
    "import matplotlib.pyplot as plt\n",
    "import seaborn as sns\n",
    "from pathlib import Path\n",
    "import sys\n",
    "import logging\n",
    "from datetime import datetime\n",
    "import pickle\n",
    "import warnings\n",
    "warnings.filterwarnings('ignore')\n",
    "\n",
    "# Add src to path\n",
    "sys.path.append('../')"
   ]
  },
  {
   "cell_type": "code",
   "execution_count": 2,
   "id": "fc96febd",
   "metadata": {},
   "outputs": [],
   "source": [
    "from src.models.collaborative_filtering.matrix_factorization import MatrixFactorizationRecommender\n",
    "from src.models.content_based.tfidf_recommender import TFIDFRecommender"
   ]
  },
  {
   "cell_type": "code",
   "execution_count": 3,
   "id": "2a0b62c9",
   "metadata": {},
   "outputs": [],
   "source": [
    "# Importing new hybrid models\n",
    "from src.models.hybrid.weighted_ensemble import WeightedHybridRecommender\n",
    "from src.models.hybrid.switching_hybrid import SwitchingHybridRecommender\n",
    "from src.evaluation.metrics import RecommendationMetrics\n"
   ]
  },
  {
   "cell_type": "code",
   "execution_count": 4,
   "id": "2e089aaa",
   "metadata": {},
   "outputs": [],
   "source": [
    "# Setup logging\n",
    "logging.basicConfig(level=logging.INFO)\n",
    "logger = logging.getLogger(__name__)"
   ]
  },
  {
   "cell_type": "code",
   "execution_count": 5,
   "id": "3426bca4",
   "metadata": {},
   "outputs": [],
   "source": [
    "# Load data and existing trained models from Phase 2\n",
    "processed_dir = Path('../data/processed')\n",
    "models_dir = Path('../models')\n",
    "features_dir = Path('../data/features')"
   ]
  },
  {
   "cell_type": "code",
   "execution_count": 6,
   "id": "2f3c7324",
   "metadata": {},
   "outputs": [
    {
     "name": "stdout",
     "output_type": "stream",
     "text": [
      "Dataset Overview:\n",
      "Ratings: 100,836\n",
      "Movies: 5,922\n",
      "Users: 610\n"
     ]
    }
   ],
   "source": [
    "# Load ratings data\n",
    "ratings_df = pd.read_csv(processed_dir / 'ratings_cleaned.csv')\n",
    "enriched_movies = pd.read_csv(Path('../data/enriched') / 'movies_enriched.csv')\n",
    "\n",
    "print(f\"Dataset Overview:\")\n",
    "print(f\"Ratings: {len(ratings_df):,}\")\n",
    "print(f\"Movies: {len(enriched_movies):,}\")\n",
    "print(f\"Users: {ratings_df['userId'].nunique():,}\")"
   ]
  },
  {
   "cell_type": "code",
   "execution_count": 7,
   "id": "18e5b440",
   "metadata": {},
   "outputs": [
    {
     "name": "stdout",
     "output_type": "stream",
     "text": [
      "\n",
      "Data Splits:\n",
      "Training: 70,585 (70.0%)\n",
      "Validation: 15,125 (15.0%)\n",
      "Test: 15,126 (15.0%)\n"
     ]
    }
   ],
   "source": [
    "# Create train/validation/test splits\n",
    "train_size = int(0.7 * len(ratings_df))\n",
    "val_size = int(0.15 * len(ratings_df))\n",
    "\n",
    "shuffled_ratings = ratings_df.sample(frac=1, random_state=42).reset_index(drop=True)\n",
    "\n",
    "train_df = shuffled_ratings.iloc[:train_size]\n",
    "val_df = shuffled_ratings.iloc[train_size:train_size + val_size]\n",
    "test_df = shuffled_ratings.iloc[train_size + val_size:]\n",
    "\n",
    "print(f\"\\nData Splits:\")\n",
    "print(f\"Training: {len(train_df):,} ({len(train_df)/len(ratings_df)*100:.1f}%)\")\n",
    "print(f\"Validation: {len(val_df):,} ({len(val_df)/len(ratings_df)*100:.1f}%)\")\n",
    "print(f\"Test: {len(test_df):,} ({len(test_df)/len(ratings_df)*100:.1f}%)\")"
   ]
  },
  {
   "cell_type": "code",
   "execution_count": 8,
   "id": "2d35d764",
   "metadata": {},
   "outputs": [
    {
     "name": "stderr",
     "output_type": "stream",
     "text": [
      "INFO:src.models.base_recommender:Model loaded from E:\\FilmFusion\\models\\svd_plus_plus_model.pkl\n"
     ]
    },
    {
     "name": "stdout",
     "output_type": "stream",
     "text": [
      "Loading SVD++ model from E:\\FilmFusion\\models\\svd_plus_plus_model.pkl\n",
      "SVD++ model loaded successfully\n",
      "Model type: <class 'surprise.prediction_algorithms.matrix_factorization.SVDpp'>\n"
     ]
    }
   ],
   "source": [
    "# Replace your SVD++ loading code with this safer version\n",
    "try:\n",
    "    svd_model = MatrixFactorizationRecommender()\n",
    "    svd_model_path = Path(r\"E:\\FilmFusion\\models\\svd_plus_plus_model.pkl\")\n",
    "    \n",
    "    if svd_model_path.exists():\n",
    "        print(f\"Loading SVD++ model from {svd_model_path}\")\n",
    "        svd_model.load_model(str(svd_model_path))\n",
    "        \n",
    "        # Verify the model loaded correctly\n",
    "        if hasattr(svd_model, 'model') and svd_model.model is not None:\n",
    "            print(\"SVD++ model loaded successfully\")\n",
    "            print(f\"Model type: {type(svd_model.model)}\")\n",
    "        else:\n",
    "            print(\"SVD++ model loaded but internal model is None\")\n",
    "            svd_model = None\n",
    "    else:\n",
    "        print(\"SVD++ model file not found, training new model...\")\n",
    "        svd_model.fit(train_df)\n",
    "        svd_model.save_model(str(svd_model_path))\n",
    "        print(\" SVD++ model trained and saved\")\n",
    "        \n",
    "except Exception as e:\n",
    "    print(f\"Error with SVD++ model: {e}\")\n",
    "    print(\"Detailed error:\")\n",
    "    import traceback\n",
    "    traceback.print_exc()\n",
    "    svd_model = None\n"
   ]
  },
  {
   "cell_type": "code",
   "execution_count": 9,
   "id": "bf9d3ada",
   "metadata": {},
   "outputs": [
    {
     "name": "stderr",
     "output_type": "stream",
     "text": [
      "INFO:src.models.base_recommender:Training TF-IDF Content-Based Recommender...\n",
      "INFO:src.models.base_recommender:Computing cosine similarity matrix...\n",
      "INFO:src.models.base_recommender:✅ TF-IDF Content-Based Recommender training completed\n",
      "INFO:src.models.base_recommender:Similarity matrix shape: (5918, 5918)\n"
     ]
    },
    {
     "name": "stdout",
     "output_type": "stream",
     "text": [
      "TF-IDF content model loaded and trained successfully\n"
     ]
    }
   ],
   "source": [
    "# 2. Load TF-IDF Content Model\n",
    "try:\n",
    "    from scipy import sparse\n",
    "    import json\n",
    "    \n",
    "    # Load TF-IDF components\n",
    "    tfidf_matrix = sparse.load_npz(features_dir / 'tfidf_matrix.npz')\n",
    "    tfidf_movie_mapping = pd.read_csv(features_dir / 'tfidf_movie_mapping.csv')\n",
    "    \n",
    "    # Merge with enriched movies data\n",
    "    tfidf_movies_df = tfidf_movie_mapping.merge(\n",
    "        enriched_movies[['movieId', 'tmdb_title', 'year', 'genres_tmdb']], \n",
    "        on='movieId', \n",
    "        how='left'\n",
    "    )\n",
    "    \n",
    "    # Initialize and train TF-IDF model\n",
    "    tfidf_model = TFIDFRecommender(similarity_threshold=0.1)\n",
    "    tfidf_model.fit(\n",
    "        ratings_df=train_df,\n",
    "        tfidf_matrix=tfidf_matrix,\n",
    "        movies_df=tfidf_movies_df\n",
    "    )\n",
    "    \n",
    "    print(\"TF-IDF content model loaded and trained successfully\")\n",
    "    \n",
    "except Exception as e:\n",
    "    print(f\"Error with TF-IDF model: {e}\")\n",
    "    tfidf_model = None\n"
   ]
  },
  {
   "cell_type": "code",
   "execution_count": 10,
   "id": "e4d5a159",
   "metadata": {},
   "outputs": [
    {
     "name": "stdout",
     "output_type": "stream",
     "text": [
      "\n",
      "Model Verification:\n",
      "SVD++ recommendations for user 1: 5 items\n",
      "   Sample rec: Movie 246 (score: 5.000)\n",
      "TF-IDF recommendations for user 1: 5 items\n"
     ]
    }
   ],
   "source": [
    "\n",
    "print(f\"\\nModel Verification:\")\n",
    "test_user_id = 1\n",
    "\n",
    "# Test SVD++ model safely\n",
    "if svd_model is not None:\n",
    "    try:\n",
    "        svd_recs = svd_model.recommend(test_user_id, 5)\n",
    "        print(f\"SVD++ recommendations for user {test_user_id}: {len(svd_recs)} items\")\n",
    "        if svd_recs:\n",
    "            print(f\"   Sample rec: Movie {svd_recs[0][0]} (score: {svd_recs[0][1]:.3f})\")\n",
    "    except Exception as e:\n",
    "        print(f\"SVD++ test failed: {e}\")\n",
    "        svd_model = None\n",
    "else:\n",
    "    print(\"SVD++ model is None - cannot test\")\n",
    "\n",
    "# Test TF-IDF model (this should work)\n",
    "if tfidf_model:\n",
    "    try:\n",
    "        tfidf_recs = tfidf_model.recommend(test_user_id, 5)\n",
    "        print(f\"TF-IDF recommendations for user {test_user_id}: {len(tfidf_recs)} items\")\n",
    "    except Exception as e:\n",
    "        print(f\"TF-IDF test failed: {e}\")\n"
   ]
  },
  {
   "cell_type": "code",
   "execution_count": 11,
   "id": "8b97604b",
   "metadata": {},
   "outputs": [
    {
     "name": "stderr",
     "output_type": "stream",
     "text": [
      "INFO:src.models.hybrid.weighted_ensemble:Training individual models...\n",
      "INFO:src.models.hybrid.weighted_ensemble:Training svd model...\n",
      "INFO:src.models.base_recommender:Training SVD++ Matrix Factorization...\n"
     ]
    },
    {
     "name": "stdout",
     "output_type": "stream",
     "text": [
      "🔗 WEIGHTED HYBRID RECOMMENDER\n",
      "========================================\n",
      "Available models for ensemble: ['svd', 'tfidf']\n",
      "Training weighted hybrid recommender...\n"
     ]
    },
    {
     "name": "stderr",
     "output_type": "stream",
     "text": [
      "INFO:src.models.base_recommender:Created mappings: 610 users, 8493 items\n",
      "INFO:src.models.base_recommender:✅ SVD++ Matrix Factorization training completed\n",
      "INFO:src.models.hybrid.weighted_ensemble:svd model trained successfully\n",
      "INFO:src.models.hybrid.weighted_ensemble:Training tfidf model...\n",
      "INFO:src.models.base_recommender:Training TF-IDF Content-Based Recommender...\n",
      "INFO:src.models.base_recommender:Computing cosine similarity matrix...\n",
      "INFO:src.models.base_recommender:✅ TF-IDF Content-Based Recommender training completed\n",
      "INFO:src.models.base_recommender:Similarity matrix shape: (5918, 5918)\n",
      "INFO:src.models.hybrid.weighted_ensemble:tfidf model trained successfully\n",
      "INFO:src.models.hybrid.weighted_ensemble:Optimizing ensemble weights...\n",
      "INFO:src.models.hybrid.weighted_ensemble:Testing 37 weight combinations\n",
      "INFO:src.models.hybrid.weighted_ensemble:Optimal weights: {'svd': 0.2, 'tfidf': 0.5}, Score: 0.0893\n",
      "INFO:src.models.hybrid.weighted_ensemble:Hybrid recommender training completed\n"
     ]
    },
    {
     "name": "stdout",
     "output_type": "stream",
     "text": [
      "Weighted hybrid training completed in 8614.0 seconds\n",
      "\n",
      "Optimized Weights:\n",
      "  svd: 0.200\n",
      "  tfidf: 0.500\n",
      "\n",
      "🎬 Sample Hybrid Recommendations:\n",
      "\n",
      "User 1:\n",
      "  1. Movie 318 (score: 12.984)\n",
      "  2. Movie 296 (score: 12.270)\n",
      "  3. Movie 260 (score: 11.999)\n",
      "  4. Movie 858 (score: 11.628)\n",
      "  5. Movie 356 (score: 11.364)\n",
      "\n",
      "User 42:\n",
      "  1. Movie 356 (score: 12.348)\n",
      "  2. Movie 318 (score: 11.984)\n",
      "  3. Movie 260 (score: 11.939)\n",
      "  4. Movie 296 (score: 11.270)\n",
      "  5. Movie 2571 (score: 11.179)\n",
      "\n",
      "User 100:\n",
      "  1. Movie 3275 (score: 0.912)\n",
      "  2. Inside Job (score: 0.908)\n",
      "  3. Movie 910 (score: 0.905)\n",
      "  4. Movie 1237 (score: 0.905)\n",
      "  5. Whiplash (score: 0.904)\n"
     ]
    }
   ],
   "source": [
    "# Initialize Weighted Hybrid Recommender\n",
    "\n",
    "\n",
    "# Prepare models dictionary\n",
    "component_models = {}\n",
    "if svd_model:\n",
    "    component_models['svd'] = svd_model\n",
    "if tfidf_model:\n",
    "    component_models['tfidf'] = tfidf_model\n",
    "\n",
    "print(f\"Available models for ensemble: {list(component_models.keys())}\")\n",
    "\n",
    "if len(component_models) >= 2:\n",
    "    # Initialize weighted hybrid\n",
    "    weighted_hybrid = WeightedHybridRecommender(\n",
    "        models=component_models,\n",
    "        optimization_method='grid_search'\n",
    "    )\n",
    "    \n",
    "    # Train the hybrid model (optimize weights)\n",
    "    print(\"Training weighted hybrid recommender...\")\n",
    "    start_time = datetime.now()\n",
    "    \n",
    "    # Pass the required TF-IDF parameters\n",
    "    weighted_hybrid.fit(\n",
    "        train_df=train_df, \n",
    "        validation_df=val_df,\n",
    "        tfidf_matrix=tfidf_matrix,  # Pass the loaded TF-IDF matrix\n",
    "        movies_df=tfidf_movies_df   # Pass the movies dataframe\n",
    "    )\n",
    "    \n",
    "    training_time = (datetime.now() - start_time).total_seconds()\n",
    "    print(f\"Weighted hybrid training completed in {training_time:.1f} seconds\")\n",
    "    \n",
    "    # Display optimized weights\n",
    "    print(f\"\\nOptimized Weights:\")\n",
    "    for model_name, weight in weighted_hybrid.weights.items():\n",
    "        print(f\"  {model_name}: {weight:.3f}\")\n",
    "        \n",
    "\n",
    "    \n",
    "    # Test hybrid recommendations\n",
    "    print(f\"\\nSample Hybrid Recommendations:\")\n",
    "    test_users = [1, 42, 100]\n",
    "    \n",
    "    for user_id in test_users:\n",
    "        try:\n",
    "            hybrid_recs = weighted_hybrid.recommend(user_id, 5)\n",
    "            print(f\"\\nUser {user_id}:\")\n",
    "            for i, (movie_id, score) in enumerate(hybrid_recs, 1):\n",
    "                movie_info = enriched_movies[enriched_movies['movieId'] == movie_id]\n",
    "                title = movie_info.iloc[0]['tmdb_title'] if len(movie_info) > 0 else f\"Movie {movie_id}\"\n",
    "                print(f\"  {i}. {title} (score: {score:.3f})\")\n",
    "        except Exception as e:\n",
    "            print(f\"  Error for user {user_id}: {e}\")\n",
    "\n",
    "else:\n",
    "    print(\"Need at least 2 models for hybrid approach\")\n",
    "    weighted_hybrid = None\n"
   ]
  },
  {
   "cell_type": "code",
   "execution_count": 12,
   "id": "36c132a0",
   "metadata": {},
   "outputs": [
    {
     "name": "stderr",
     "output_type": "stream",
     "text": [
      "INFO:src.models.hybrid.switching_hybrid:Training individual models...\n",
      "INFO:src.models.hybrid.switching_hybrid:Training svd model...\n",
      "INFO:src.models.base_recommender:Training SVD++ Matrix Factorization...\n"
     ]
    },
    {
     "name": "stdout",
     "output_type": "stream",
     "text": [
      "\n",
      "SWITCHING HYBRID RECOMMENDER\n",
      "========================================\n",
      "Training switching hybrid recommender...\n"
     ]
    },
    {
     "name": "stderr",
     "output_type": "stream",
     "text": [
      "INFO:src.models.base_recommender:Created mappings: 610 users, 8493 items\n"
     ]
    },
    {
     "ename": "KeyboardInterrupt",
     "evalue": "",
     "output_type": "error",
     "traceback": [
      "\u001b[31m---------------------------------------------------------------------------\u001b[39m",
      "\u001b[31mKeyboardInterrupt\u001b[39m                         Traceback (most recent call last)",
      "\u001b[36mCell\u001b[39m\u001b[36m \u001b[39m\u001b[32mIn[12]\u001b[39m\u001b[32m, line 16\u001b[39m\n\u001b[32m     13\u001b[39m \u001b[38;5;28mprint\u001b[39m(\u001b[33m\"\u001b[39m\u001b[33mTraining switching hybrid recommender...\u001b[39m\u001b[33m\"\u001b[39m)\n\u001b[32m     14\u001b[39m start_time = datetime.now()\n\u001b[32m---> \u001b[39m\u001b[32m16\u001b[39m \u001b[43mswitching_hybrid\u001b[49m\u001b[43m.\u001b[49m\u001b[43mfit\u001b[49m\u001b[43m(\u001b[49m\u001b[43mtrain_df\u001b[49m\u001b[43m,\u001b[49m\u001b[43m \u001b[49m\u001b[43mval_df\u001b[49m\u001b[43m)\u001b[49m\n\u001b[32m     18\u001b[39m training_time = (datetime.now() - start_time).total_seconds()\n\u001b[32m     19\u001b[39m \u001b[38;5;28mprint\u001b[39m(\u001b[33mf\u001b[39m\u001b[33m\"\u001b[39m\u001b[33mSwitching hybrid training completed in \u001b[39m\u001b[38;5;132;01m{\u001b[39;00mtraining_time\u001b[38;5;132;01m:\u001b[39;00m\u001b[33m.1f\u001b[39m\u001b[38;5;132;01m}\u001b[39;00m\u001b[33m seconds\u001b[39m\u001b[33m\"\u001b[39m)\n",
      "\u001b[36mFile \u001b[39m\u001b[32me:\\FilmFusion\\notebooks\\..\\src\\models\\hybrid\\switching_hybrid.py:89\u001b[39m, in \u001b[36mSwitchingHybridRecommender.fit\u001b[39m\u001b[34m(self, train_df, validation_df)\u001b[39m\n\u001b[32m     87\u001b[39m \u001b[38;5;28mself\u001b[39m.logger.info(\u001b[33mf\u001b[39m\u001b[33m\"\u001b[39m\u001b[33mTraining \u001b[39m\u001b[38;5;132;01m{\u001b[39;00mname\u001b[38;5;132;01m}\u001b[39;00m\u001b[33m model...\u001b[39m\u001b[33m\"\u001b[39m)\n\u001b[32m     88\u001b[39m \u001b[38;5;28;01mtry\u001b[39;00m:\n\u001b[32m---> \u001b[39m\u001b[32m89\u001b[39m     \u001b[43mmodel\u001b[49m\u001b[43m.\u001b[49m\u001b[43mfit\u001b[49m\u001b[43m(\u001b[49m\u001b[43mtrain_df\u001b[49m\u001b[43m)\u001b[49m\n\u001b[32m     90\u001b[39m     \u001b[38;5;28mself\u001b[39m.logger.info(\u001b[33mf\u001b[39m\u001b[33m\"\u001b[39m\u001b[38;5;132;01m{\u001b[39;00mname\u001b[38;5;132;01m}\u001b[39;00m\u001b[33m model trained successfully\u001b[39m\u001b[33m\"\u001b[39m)\n\u001b[32m     91\u001b[39m \u001b[38;5;28;01mexcept\u001b[39;00m \u001b[38;5;167;01mException\u001b[39;00m \u001b[38;5;28;01mas\u001b[39;00m e:\n",
      "\u001b[36mFile \u001b[39m\u001b[32me:\\FilmFusion\\notebooks\\..\\src\\models\\collaborative_filtering\\matrix_factorization.py:58\u001b[39m, in \u001b[36mMatrixFactorizationRecommender.fit\u001b[39m\u001b[34m(self, ratings_df, **kwargs)\u001b[39m\n\u001b[32m     55\u001b[39m \u001b[38;5;28mself\u001b[39m.create_mappings(ratings_df)\n\u001b[32m     57\u001b[39m \u001b[38;5;66;03m# Train model\u001b[39;00m\n\u001b[32m---> \u001b[39m\u001b[32m58\u001b[39m \u001b[38;5;28;43mself\u001b[39;49m\u001b[43m.\u001b[49m\u001b[43mmodel\u001b[49m\u001b[43m.\u001b[49m\u001b[43mfit\u001b[49m\u001b[43m(\u001b[49m\u001b[38;5;28;43mself\u001b[39;49m\u001b[43m.\u001b[49m\u001b[43mtrainset\u001b[49m\u001b[43m)\u001b[49m\n\u001b[32m     60\u001b[39m \u001b[38;5;28mself\u001b[39m.is_fitted = \u001b[38;5;28;01mTrue\u001b[39;00m\n\u001b[32m     61\u001b[39m \u001b[38;5;28mself\u001b[39m.logger.info(\u001b[33mf\u001b[39m\u001b[33m\"\u001b[39m\u001b[38;5;132;01m{\u001b[39;00m\u001b[38;5;28mself\u001b[39m.name\u001b[38;5;132;01m}\u001b[39;00m\u001b[33m training completed\u001b[39m\u001b[33m\"\u001b[39m)\n",
      "\u001b[36mFile \u001b[39m\u001b[32me:\\FilmFusion\\filmfusion_env\\Lib\\site-packages\\surprise\\prediction_algorithms\\matrix_factorization.pyx:400\u001b[39m, in \u001b[36msurprise.prediction_algorithms.matrix_factorization.SVDpp.fit\u001b[39m\u001b[34m()\u001b[39m\n",
      "\u001b[36mFile \u001b[39m\u001b[32me:\\FilmFusion\\filmfusion_env\\Lib\\site-packages\\surprise\\prediction_algorithms\\matrix_factorization.pyx:464\u001b[39m, in \u001b[36msurprise.prediction_algorithms.matrix_factorization.SVDpp.sgd\u001b[39m\u001b[34m()\u001b[39m\n",
      "\u001b[36mFile \u001b[39m\u001b[32me:\\FilmFusion\\filmfusion_env\\Lib\\site-packages\\surprise\\trainset.py:194\u001b[39m, in \u001b[36mTrainset.all_ratings\u001b[39m\u001b[34m(self)\u001b[39m\n\u001b[32m    192\u001b[39m \u001b[38;5;28;01mfor\u001b[39;00m u, u_ratings \u001b[38;5;129;01min\u001b[39;00m \u001b[38;5;28mself\u001b[39m.ur.items():\n\u001b[32m    193\u001b[39m     \u001b[38;5;28;01mfor\u001b[39;00m i, r \u001b[38;5;129;01min\u001b[39;00m u_ratings:\n\u001b[32m--> \u001b[39m\u001b[32m194\u001b[39m         \u001b[38;5;28;01myield\u001b[39;00m u, i, r\n",
      "\u001b[31mKeyboardInterrupt\u001b[39m: "
     ]
    }
   ],
   "source": [
    "# Initialize Switching Hybrid Recommender\n",
    "print(\"\\nSWITCHING HYBRID RECOMMENDER\")\n",
    "print(\"=\" * 40)\n",
    "\n",
    "if len(component_models) >= 2:\n",
    "    # Initialize switching hybrid\n",
    "    switching_hybrid = SwitchingHybridRecommender(\n",
    "        models=component_models,\n",
    "        switching_strategy='user_profile'\n",
    "    )\n",
    "    \n",
    "    # Train the switching hybrid model\n",
    "    print(\"Training switching hybrid recommender...\")\n",
    "    start_time = datetime.now()\n",
    "    \n",
    "    switching_hybrid.fit(train_df, val_df)\n",
    "    \n",
    "    training_time = (datetime.now() - start_time).total_seconds()\n",
    "    print(f\"Switching hybrid training completed in {training_time:.1f} seconds\")\n",
    "    \n",
    "    # Test switching recommendations\n",
    "    print(f\"\\n🎬 Sample Switching Recommendations:\")\n",
    "    \n",
    "    for user_id in test_users:\n",
    "        try:\n",
    "            switching_recs = switching_hybrid.recommend(user_id, 5)\n",
    "            selected_model = switching_hybrid._decide_model(user_id)\n",
    "            \n",
    "            print(f\"\\nUser {user_id} (selected model: {selected_model}):\")\n",
    "            for i, (movie_id, score) in enumerate(switching_recs, 1):\n",
    "                movie_info = enriched_movies[enriched_movies['movieId'] == movie_id]\n",
    "                title = movie_info.iloc[0]['tmdb_title'] if len(movie_info) > 0 else f\"Movie {movie_id}\"\n",
    "                print(f\"  {i}. {title} (score: {score:.3f})\")\n",
    "        except Exception as e:\n",
    "            print(f\"  Error for user {user_id}: {e}\")\n",
    "\n",
    "else:\n",
    "    print(\"Need at least 2 models for switching approach\")\n",
    "    switching_hybrid = None\n"
   ]
  },
  {
   "cell_type": "code",
   "execution_count": null,
   "id": "bf346211",
   "metadata": {},
   "outputs": [],
   "source": [
    "# Comprehensive evaluation of hybrid models\n",
    "print(\"\\nHYBRID MODEL EVALUATION\")\n",
    "print(\"=\" * 35)\n",
    "\n",
    "# Initialize metrics calculator\n",
    "metrics_calculator = RecommendationMetrics()\n",
    "\n",
    "def evaluate_hybrid_model(model, model_name, test_df, sample_size=100):\n",
    "    \"\"\"Evaluate hybrid model performance\"\"\"\n",
    "    \n",
    "    print(f\"\\nEvaluating {model_name}...\")\n",
    "    \n",
    "    # Sample test users\n",
    "    test_users = test_df['userId'].unique()[:sample_size]\n",
    "    \n",
    "    precision_scores = []\n",
    "    recall_scores = []\n",
    "    f1_scores = []\n",
    "    \n",
    "    successful_users = 0\n",
    "    \n",
    "    for user_id in test_users:\n",
    "        try:\n",
    "            # Get user's test ratings\n",
    "            user_test = test_df[test_df['userId'] == user_id]\n",
    "            if len(user_test) == 0:\n",
    "                continue\n",
    "            \n",
    "            # Get recommendations\n",
    "            recommendations = model.recommend(user_id, 10)\n",
    "            if not recommendations:\n",
    "                continue\n",
    "            \n",
    "            # Calculate metrics\n",
    "            relevant_items = set(user_test[user_test['rating'] >= 4.0]['movieId'])\n",
    "            recommended_items = [item_id for item_id, _ in recommendations]\n",
    "            \n",
    "            if len(relevant_items) > 0:\n",
    "                precision = metrics_calculator.precision_at_k(recommended_items, relevant_items, 10)\n",
    "                recall = metrics_calculator.recall_at_k(recommended_items, relevant_items, 10)\n",
    "                f1 = metrics_calculator.f1_at_k(recommended_items, relevant_items, 10)\n",
    "                \n",
    "                precision_scores.append(precision)\n",
    "                recall_scores.append(recall)\n",
    "                f1_scores.append(f1)\n",
    "                successful_users += 1\n",
    "                \n",
    "        except Exception as e:\n",
    "            continue\n",
    "    \n",
    "    # Calculate averages\n",
    "    results = {\n",
    "        'precision_at_10': np.mean(precision_scores) if precision_scores else 0,\n",
    "        'recall_at_10': np.mean(recall_scores) if recall_scores else 0,\n",
    "        'f1_at_10': np.mean(f1_scores) if f1_scores else 0,\n",
    "        'successful_users': successful_users,\n",
    "        'total_users': len(test_users)\n",
    "    }\n",
    "    \n",
    "    print(f\"Results for {model_name}:\")\n",
    "    print(f\"  Precision@10: {results['precision_at_10']:.4f}\")\n",
    "    print(f\"  Recall@10: {results['recall_at_10']:.4f}\")\n",
    "    print(f\"  F1@10: {results['f1_at_10']:.4f}\")\n",
    "    print(f\"  Success Rate: {results['successful_users']}/{results['total_users']}\")\n",
    "    \n",
    "    return results\n",
    "\n"
   ]
  },
  {
   "cell_type": "code",
   "execution_count": null,
   "id": "ed3ca5c4",
   "metadata": {},
   "outputs": [],
   "source": [
    "# Evaluate all models\n",
    "evaluation_results = {}\n",
    "\n",
    "# Evaluate individual models\n",
    "if svd_model:\n",
    "    svd_results = evaluate_hybrid_model(svd_model, \"SVD++\", test_df)\n",
    "    evaluation_results['SVD++'] = svd_results\n",
    "\n",
    "if tfidf_model:\n",
    "    tfidf_results = evaluate_hybrid_model(tfidf_model, \"TF-IDF\", test_df)\n",
    "    evaluation_results['TF-IDF'] = tfidf_results\n",
    "\n",
    "# Evaluate hybrid models\n",
    "if weighted_hybrid:\n",
    "    weighted_results = evaluate_hybrid_model(weighted_hybrid, \"Weighted Hybrid\", test_df)\n",
    "    evaluation_results['Weighted Hybrid'] = weighted_results\n",
    "\n",
    "if switching_hybrid:\n",
    "    switching_results = evaluate_hybrid_model(switching_hybrid, \"Switching Hybrid\", test_df)\n",
    "    evaluation_results['Switching Hybrid'] = switching_results\n",
    "\n",
    "# Compare results\n",
    "if evaluation_results:\n",
    "    print(f\"\\nMODEL COMPARISON:\")\n",
    "    print(\"=\" * 50)\n",
    "    \n",
    "    results_df = pd.DataFrame(evaluation_results).T\n",
    "    display(results_df.round(4))\n",
    "    \n",
    "    # Find best model\n",
    "    best_model = results_df['f1_at_10'].idxmax()\n",
    "    best_f1 = results_df.loc[best_model, 'f1_at_10']\n",
    "    \n",
    "    print(f\"\\n Best Model: {best_model} (F1@10: {best_f1:.4f})\")\n",
    "\n",
    "    # Calculate improvements\n",
    "    if 'Weighted Hybrid' in evaluation_results and 'SVD++' in evaluation_results:\n",
    "        improvement = (evaluation_results['Weighted Hybrid']['f1_at_10'] - \n",
    "                      evaluation_results['SVD++']['f1_at_10']) / evaluation_results['SVD++']['f1_at_10'] * 100\n",
    "        print(f\" Weighted Hybrid improvement over SVD++: {improvement:.1f}%\")\n"
   ]
  },
  {
   "cell_type": "code",
   "execution_count": null,
   "metadata": {},
   "outputs": [],
   "source": [
    "# Visualize evaluation results\n",
    "if evaluation_results:\n",
    "    print(\"\\n PERFORMANCE VISUALIZATION\")\n",
    "    print(\"=\" * 35)\n",
    "    \n",
    "    # Create comparison plots\n",
    "    fig, axes = plt.subplots(1, 3, figsize=(15, 5))\n",
    "    \n",
    "    models = list(evaluation_results.keys())\n",
    "    \n",
    "    # Precision comparison\n",
    "    precision_values = [evaluation_results[model]['precision_at_10'] for model in models]\n",
    "    axes[0].bar(models, precision_values, color='skyblue', alpha=0.7)\n",
    "    axes[0].set_title('Precision@10 Comparison')\n",
    "    axes[0].set_ylabel('Precision')\n",
    "    axes[0].tick_params(axis='x', rotation=45)\n",
    "    \n",
    "    # Recall comparison\n",
    "    recall_values = [evaluation_results[model]['recall_at_10'] for model in models]\n",
    "    axes[1].bar(models, recall_values, color='lightcoral', alpha=0.7)\n",
    "    axes[1].set_title('Recall@10 Comparison')\n",
    "    axes[1].set_ylabel('Recall')\n",
    "    axes[1].tick_params(axis='x', rotation=45)\n",
    "    \n",
    "    # F1 comparison\n",
    "    f1_values = [evaluation_results[model]['f1_at_10'] for model in models]\n",
    "    axes[2].bar(models, f1_values, color='lightgreen', alpha=0.7)\n",
    "    axes[2].set_title('F1@10 Comparison')\n",
    "    axes[2].set_ylabel('F1 Score')\n",
    "    axes[2].tick_params(axis='x', rotation=45)\n",
    "    \n",
    "    plt.tight_layout()\n",
    "    plt.show()\n",
    "    \n",
    "    # Save evaluation results\n",
    "    results_save_path = Path('../results/hybrid_model_evaluation.json')\n",
    "    results_save_path.parent.mkdir(exist_ok=True)\n",
    "    \n",
    "    import json\n",
    "    with open(results_save_path, 'w') as f:\n",
    "        json.dump(evaluation_results, f, indent=2, default=str)\n",
    "    \n",
    "    print(f\"Evaluation results saved to {results_save_path}\")\n",
    "\n",
    "# Save trained hybrid models\n",
    "if weighted_hybrid:\n",
    "    weighted_model_path = models_dir / 'weighted_hybrid_model.pkl'\n",
    "    with open(weighted_model_path, 'wb') as f:\n",
    "        pickle.dump(weighted_hybrid, f)\n",
    "    print(f\"Weighted hybrid model saved to {weighted_model_path}\")\n",
    "\n",
    "if switching_hybrid:\n",
    "    switching_model_path = models_dir / 'switching_hybrid_model.pkl'\n",
    "    with open(switching_model_path, 'wb') as f:\n",
    "        pickle.dump(switching_hybrid, f)\n",
    "    print(f\"Switching hybrid model saved to {switching_model_path}\")\n",
    "\n",
    "print(f\"\\nPhase 4 Step 1 (Hybrid Models) Complete!\")\n"
   ]
  },
  {
   "cell_type": "code",
   "execution_count": null,
   "metadata": {},
   "outputs": [],
   "source": []
  }
 ],
 "metadata": {
  "kernelspec": {
   "display_name": "filmfusion_env",
   "language": "python",
   "name": "python3"
  },
  "language_info": {
   "codemirror_mode": {
    "name": "ipython",
    "version": 3
   },
   "file_extension": ".py",
   "mimetype": "text/x-python",
   "name": "python",
   "nbconvert_exporter": "python",
   "pygments_lexer": "ipython3",
   "version": "3.12.3"
  }
 },
 "nbformat": 4,
 "nbformat_minor": 5
}
